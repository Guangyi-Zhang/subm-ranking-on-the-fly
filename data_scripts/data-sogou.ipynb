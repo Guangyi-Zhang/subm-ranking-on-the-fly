{
 "cells": [
  {
   "cell_type": "code",
   "execution_count": 1,
   "id": "0b427cff",
   "metadata": {},
   "outputs": [],
   "source": [
    "import pickle\n",
    "from collections import defaultdict"
   ]
  },
  {
   "cell_type": "markdown",
   "id": "93b44cfc",
   "metadata": {},
   "source": [
    "# Explore"
   ]
  },
  {
   "cell_type": "code",
   "execution_count": 11,
   "id": "593bbc33",
   "metadata": {},
   "outputs": [
    {
     "name": "stdout",
     "output_type": "stream",
     "text": [
      "['12:10:47', '3182383064076715', '[1．', '象形、指事、会意的区别]', '1 3', 'ks.cn.yahoo.com/question/1307012100335.html\\n']\n",
      "['12:20:29', '3182383064076715', '[1．', '象形、指事、会意的区别]', '2 4', 'zhidao.baidu.com/question/5357195.html?fr=qrl3\\n']\n",
      "['18:47:27', '5999958585312108', '[1.', '什么是OSI参考模型？各层的主要功能是什么？]', '9 67', 'www.eyea.net/bbs/index.php?mods=topicdisplay&forumid=62&postid=42\\n']\n",
      "['18:47:29', '5999958585312108', '[1.', '什么是OSI参考模型？各层的主要功能是什么？]', '9 68', 'www.eyea.net/bbs/index.php?mods=topicdisplay&forumid=62&postid=42\\n']\n",
      "['18:47:29', '5999958585312108', '[1.', '什么是OSI参考模型？各层的主要功能是什么？]', '9 69', 'www.eyea.net/bbs/index.php?mods=topicdisplay&forumid=62&postid=42\\n']\n",
      "['18:50:44', '7235610684241269', '[Conexant+Unknown+@+Intel+82801HBM+ICH8M+-+High+Definition+Audio+Controller', 'P]', '1 1', 'group.zol.com.cn/30/16_294643.html\\n']\n",
      "['20:06:13', '23996506530073747', \"[Analog+Devices+AD1888+@+Intel+82801FB+ICH6+-+AC'97+Audio+Controller+[C-0]\", 'PCI]', '1 1', 'bbs.mydrivers.com/thread-189845-1-40.html\\n']\n",
      "['20:07:12', '23996506530073747', \"[Analog+Devices+AD1888+@+Intel+82801FB+ICH6+-+AC'97+Audio+Controller+[C-0]\", 'PCI]', '2 2', 'bbs.ylmf.com/read.php?tid=558330&fpage=254\\n']\n",
      "['20:07:19', '23996506530073747', \"[Analog+Devices+AD1888+@+Intel+82801FB+ICH6+-+AC'97+Audio+Controller+[C-0]\", 'PCI]', '4 3', 'bbs.mumayi.net/viewthread.php?tid=1149896&extra=page%3D1\\n']\n",
      "['21:59:14', '8160510088862797', '[1、', '家电维修（中、高级）技能培训项目任务书]', '4 1', 'www.tech.net.cn/tab/tab200404023.doc\\n']\n",
      "['22:03:48', '8160510088862797', '[1、', '家电维修（中、高级）技能培训项目任务书]', '8 2', 'www.sict.edu.cn/deng/file/1\\\\xa8\\\\xb2?\\\\xa8\\\\xb0\\\\xa8\\\\xba?\\\\xa1\\\\xa4?D??oD\\\\xa1\\\\xea?\\\\xa1\\\\xa7\\\\xa8\\\\xa6\\\\xa8\\\\xa8???t/1\\\\xa8\\\\xb2?\\\\xa8\\\\xb0\\\\xa8\\\\xba?\\\\xa1\\\\xa4?D???\\\\xa6\\\\xcc\\\\xa8\\\\xa8?\\\\xa1\\\\xe3\\\\xa8\\\\xb0\\\\xa6\\\\xcc?oD\\\\xa1\\\\xea?\\\\xa1\\\\xa7\\\\xa8\\\\xa6\\\\xa8\\\\xa8\\\\xa8\\\\xa8???\\\\xa8\\\\xba\\\\xa8\\\\xa6.doc\\n']\n"
     ]
    }
   ],
   "source": [
    "qup = dict() # qu['q'] = [set(),set()]\n",
    "\n",
    "with open('datasets/SogouQ.reduced.UTF8', 'r') as fin:\n",
    "    for line in fin:\n",
    "        entries = line.split('\\t')\n",
    "        if len(entries) != 5:\n",
    "            print(entries)\n",
    "            continue\n",
    "        t,u,q,rs,url = entries\n",
    "        if q not in qup:\n",
    "            qup[q] = (set(), set())\n",
    "        su, sp = qup[q]\n",
    "        if u not in su:\n",
    "            su.add(u)\n",
    "        if url not in sp:\n",
    "            sp.add(url)"
   ]
  },
  {
   "cell_type": "code",
   "execution_count": 12,
   "id": "1b2a9d35",
   "metadata": {},
   "outputs": [
    {
     "data": {
      "text/plain": [
       "318828"
      ]
     },
     "execution_count": 12,
     "metadata": {},
     "output_type": "execute_result"
    }
   ],
   "source": [
    "len(qup)"
   ]
  },
  {
   "cell_type": "code",
   "execution_count": 16,
   "id": "e21082e8",
   "metadata": {},
   "outputs": [
    {
     "name": "stdout",
     "output_type": "stream",
     "text": [
      "[479, 480, 488, 493, 494, 495, 497, 500, 504, 505, 505, 514, 516, 525, 529, 539, 549, 550, 551, 590, 600, 601, 603, 603, 607, 609, 610, 617, 623, 628, 629, 635, 644, 660, 665, 665, 675, 679, 680, 700, 714, 717, 728, 738, 747, 756, 757, 770, 782, 787, 795, 798, 799, 848, 866, 898, 900, 908, 911, 939, 940, 959, 975, 994, 1014, 1036, 1058, 1065, 1072, 1136, 1136, 1209, 1219, 1219, 1239, 1286, 1312, 1343, 1477, 1562, 1574, 1630, 1663, 1866, 2017, 2041, 2069, 2168, 2368, 2404, 2508, 2849, 3035, 3369, 3460, 4636, 5411, 7832, 37748, 45430]\n",
      "[86, 86, 87, 87, 87, 87, 87, 87, 88, 88, 89, 89, 89, 90, 90, 91, 92, 93, 93, 93, 94, 94, 94, 96, 97, 97, 97, 97, 98, 99, 99, 100, 100, 104, 104, 105, 106, 106, 107, 107, 112, 114, 117, 117, 119, 121, 124, 125, 128, 130, 130, 132, 132, 135, 135, 136, 140, 142, 142, 145, 147, 159, 160, 162, 164, 167, 167, 168, 169, 170, 178, 182, 184, 185, 186, 190, 192, 193, 194, 204, 206, 206, 212, 220, 242, 245, 252, 253, 254, 262, 289, 302, 337, 350, 356, 379, 405, 492, 692, 759]\n"
     ]
    }
   ],
   "source": [
    "nus = [len(su) for q,(su,sp) in qup.items()]\n",
    "print(sorted(nus)[-100:])\n",
    "nps = [len(sp) for q,(su,sp) in qup.items()]\n",
    "print(sorted(nps)[-100:])"
   ]
  },
  {
   "cell_type": "code",
   "execution_count": 20,
   "id": "27212971",
   "metadata": {},
   "outputs": [
    {
     "data": {
      "text/plain": [
       "[('[文心阁]', 61, 104),\n",
       " ('[化工]', 110, 104),\n",
       " ('[屋面种植土]', 1, 105),\n",
       " ('[汽车]', 261, 106),\n",
       " ('[福彩3d分析预测]', 158, 106),\n",
       " ('[基金]', 167, 107),\n",
       " ('[\"女\"+\"广东\"+\"22岁\"+site:photo.163.com]', 1, 107),\n",
       " ('[free+movie]', 28, 112),\n",
       " ('[仪器仪表]', 113, 114),\n",
       " ('[3p]', 45, 117),\n",
       " ('[库娃+三围]', 1, 117),\n",
       " ('[视频]', 270, 119),\n",
       " ('[投资]', 180, 121),\n",
       " ('[律师]', 275, 124),\n",
       " ('[健康]', 138, 125),\n",
       " ('[xiao77]', 201, 128),\n",
       " ('[音乐]', 371, 130),\n",
       " ('[free+girls]', 16, 130),\n",
       " ('[旅游]', 199, 132),\n",
       " ('[笔记本]', 137, 132),\n",
       " ('[MP3]', 223, 135),\n",
       " ('[保健]', 135, 135),\n",
       " ('[软件]', 149, 136),\n",
       " ('[暗娼李湘]', 3460, 140),\n",
       " ('[明星合成]', 43, 142),\n",
       " ('[医疗]', 141, 142),\n",
       " ('[分析]', 145, 145),\n",
       " ('[封杀莎朗斯通]', 7832, 147),\n",
       " ('[中医治疗]', 157, 159),\n",
       " ('[电视]', 166, 160),\n",
       " ('[玄幻小说]', 74, 162),\n",
       " ('[福利彩票]', 102, 164),\n",
       " ('[服装]', 172, 167),\n",
       " ('[人妖摄影]', 1, 167),\n",
       " ('[mp3]', 286, 168),\n",
       " ('[机票]', 98, 169),\n",
       " ('[饰品]', 164, 170),\n",
       " ('[近视]', 607, 178),\n",
       " ('[加拿大投资移民]', 289, 182),\n",
       " ('[化妆]', 183, 184),\n",
       " ('[网址导航]', 117, 185),\n",
       " ('[留学]', 336, 186),\n",
       " ('[哄抢救灾物资]', 45430, 190),\n",
       " ('[网络]', 194, 192),\n",
       " ('[汶川地震原因]', 37748, 193),\n",
       " ('[babes]', 12, 194),\n",
       " ('[电脑]', 299, 204),\n",
       " ('[连锁加盟]', 363, 206),\n",
       " ('[医院]', 208, 206),\n",
       " ('[肝癌]', 443, 212),\n",
       " ('[妇科]', 675, 220),\n",
       " ('[免费电影]', 376, 242),\n",
       " ('[加盟]', 313, 245),\n",
       " ('[管理]', 248, 252),\n",
       " ('[xxx]', 71, 253),\n",
       " ('[手机]', 251, 254),\n",
       " ('[小游戏]', 939, 262),\n",
       " ('[sm]', 99, 289),\n",
       " ('[gay]', 328, 302),\n",
       " ('[美容]', 714, 337),\n",
       " ('[培训]', 623, 350),\n",
       " ('[彩票]', 229, 356),\n",
       " ('[hao123]', 505, 379),\n",
       " ('[五金]', 403, 405),\n",
       " ('[游戏]', 529, 492),\n",
       " ('[123]', 601, 692),\n",
       " ('[电影]', 787, 759)]"
      ]
     },
     "execution_count": 20,
     "metadata": {},
     "output_type": "execute_result"
    }
   ],
   "source": [
    "sorted([(q,len(su),len(sp)) for q,(su,sp) in qup.items() if len(sp)>100], \n",
    "       key=lambda x: x[2])"
   ]
  },
  {
   "cell_type": "markdown",
   "id": "578e9b5b",
   "metadata": {},
   "source": [
    "# Make"
   ]
  },
  {
   "cell_type": "code",
   "execution_count": 21,
   "id": "1b5479ed",
   "metadata": {},
   "outputs": [
    {
     "data": {
      "text/plain": [
       "[1, 2]"
      ]
     },
     "execution_count": 21,
     "metadata": {},
     "output_type": "execute_result"
    }
   ],
   "source": [
    "ls = []\n",
    "ls.append(1)\n",
    "ls.append(2)\n",
    "ls"
   ]
  },
  {
   "cell_type": "code",
   "execution_count": 2,
   "id": "d74e5ce1",
   "metadata": {},
   "outputs": [],
   "source": [
    "page2id = dict()\n",
    "id2page = dict()\n",
    "users = dict() # user to a list of (page,rank)\n",
    "\n",
    "# key = '[电影]'\n",
    "# key = '[游戏]'\n",
    "keys = set([\n",
    "    '[医院]', \n",
    "    '[免费电影]',\n",
    "    '[电视]',\n",
    "    '[视频]',\n",
    "    ])\n",
    "\n",
    "with open('datasets/SogouQ.reduced.UTF8', 'r') as fin:\n",
    "    for line in fin:\n",
    "        entries = line.split('\\t')\n",
    "        if len(entries) != 5:\n",
    "            continue\n",
    "        t,u,q,rs,url = entries\n",
    "        if q not in keys:\n",
    "            continue\n",
    "            \n",
    "        if url not in page2id:\n",
    "            id_ = len(page2id) # start from 0\n",
    "            page2id[url] = id_\n",
    "            id2page[id_] = url\n",
    "        \n",
    "        if u not in users:\n",
    "            users[u] = list()\n",
    "        users[u].append((page2id[url], int(rs.split()[1])))\n",
    "        \n",
    "users2 = dict()\n",
    "for i,(u,ls) in enumerate(users.items()):\n",
    "    sls = sorted(ls, key=lambda x: x[1])\n",
    "    users2[u] = list(dict.fromkeys([e[0] for e in sls]))\n",
    "users = users2\n",
    "\n",
    "pickle.dump([len(page2id), users], \n",
    "            open('datasets/sogou.pkl', 'wb'))\n",
    "#             open('datasets/sogou-movie.pkl', 'wb'))\n",
    "#             open('datasets/sogou-game.pkl', 'wb'))\n",
    "#             open('datasets/sogou-hospital.pkl', 'wb'))"
   ]
  },
  {
   "cell_type": "code",
   "execution_count": null,
   "id": "6db6023e",
   "metadata": {},
   "outputs": [],
   "source": [
    "# tests below"
   ]
  },
  {
   "cell_type": "code",
   "execution_count": 3,
   "id": "09005a7a",
   "metadata": {},
   "outputs": [
    {
     "data": {
      "text/plain": [
       "(1017, 725)"
      ]
     },
     "execution_count": 3,
     "metadata": {},
     "output_type": "execute_result"
    }
   ],
   "source": [
    "len(users), len(page2id)"
   ]
  },
  {
   "cell_type": "code",
   "execution_count": 25,
   "id": "fe904a3f",
   "metadata": {},
   "outputs": [
    {
     "data": {
      "text/plain": [
       "(787, 759)"
      ]
     },
     "execution_count": 25,
     "metadata": {},
     "output_type": "execute_result"
    }
   ],
   "source": [
    "len(users), len(page2id)"
   ]
  },
  {
   "cell_type": "code",
   "execution_count": 28,
   "id": "ccd34ce1",
   "metadata": {},
   "outputs": [
    {
     "name": "stdout",
     "output_type": "stream",
     "text": [
      "18626013685202486 [(0, 5), (10, 6), (23, 1), (69, 1)]\n",
      "14937436947937166 [(1, 2), (2, 3)]\n",
      "5067781565823457 [(3, 1), (7, 4), (9, 5), (12, 7), (14, 8), (16, 9), (17, 11), (18, 12), (19, 13), (24, 16), (26, 17), (27, 19)]\n",
      "15249881374507324 [(4, 2)]\n",
      "6919230274713275 [(5, 3), (4, 4), (4, 5)]\n",
      "13232006107666438 [(4, 1), (4, 2)]\n",
      "103839318538469 [(6, 1), (2, 2), (28, 3)]\n",
      "8848818452597155 [(8, 1), (603, 1)]\n",
      "6819573283140299 [(2, 1)]\n",
      "4600622164513012 [(11, 1), (13, 2), (4, 3), (4, 4)]\n",
      "044854966485864234 [(4, 1), (3, 2), (4, 3), (2, 4), (4, 5), (4, 6), (32, 7)]\n",
      "9717400443527949 [(15, 1), (4, 2), (4, 3)]\n"
     ]
    }
   ],
   "source": [
    "for i,(u,ls) in enumerate(users.items()):\n",
    "    print(u, ls)\n",
    "    if i > 10: break"
   ]
  },
  {
   "cell_type": "code",
   "execution_count": 33,
   "id": "f251be6d",
   "metadata": {},
   "outputs": [
    {
     "name": "stdout",
     "output_type": "stream",
     "text": [
      "18626013685202486 [23, 69, 0, 10]\n",
      "14937436947937166 [1, 2]\n",
      "5067781565823457 [3, 7, 9, 12, 14, 16, 17, 18, 19, 24, 26, 27]\n",
      "15249881374507324 [4]\n",
      "6919230274713275 [5, 4]\n",
      "13232006107666438 [4]\n",
      "103839318538469 [6, 2, 28]\n",
      "8848818452597155 [8, 603]\n",
      "6819573283140299 [2]\n",
      "4600622164513012 [11, 13, 4]\n",
      "044854966485864234 [4, 3, 2, 32]\n",
      "9717400443527949 [15, 4]\n"
     ]
    }
   ],
   "source": [
    "users2 = dict()\n",
    "\n",
    "for i,(u,ls) in enumerate(users.items()):\n",
    "    sls = sorted(ls, key=lambda x: x[1])\n",
    "    users2[u] = list(dict.fromkeys([e[0] for e in sls]))\n",
    "    \n",
    "for i,(u,ls) in enumerate(users2.items()):\n",
    "    print(u, ls)\n",
    "    if i > 10: break"
   ]
  }
 ],
 "metadata": {
  "kernelspec": {
   "display_name": "Python 3",
   "language": "python",
   "name": "python3"
  },
  "language_info": {
   "codemirror_mode": {
    "name": "ipython",
    "version": 3
   },
   "file_extension": ".py",
   "mimetype": "text/x-python",
   "name": "python",
   "nbconvert_exporter": "python",
   "pygments_lexer": "ipython3",
   "version": "3.8.2"
  },
  "toc": {
   "base_numbering": 1,
   "nav_menu": {},
   "number_sections": true,
   "sideBar": true,
   "skip_h1_title": false,
   "title_cell": "Table of Contents",
   "title_sidebar": "Contents",
   "toc_cell": false,
   "toc_position": {
    "height": "calc(100% - 180px)",
    "left": "10px",
    "top": "150px",
    "width": "165px"
   },
   "toc_section_display": true,
   "toc_window_display": true
  }
 },
 "nbformat": 4,
 "nbformat_minor": 5
}
