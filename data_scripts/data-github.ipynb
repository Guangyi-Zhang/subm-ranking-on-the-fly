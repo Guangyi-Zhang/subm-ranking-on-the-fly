{
 "cells": [
  {
   "cell_type": "code",
   "execution_count": 18,
   "id": "0b427cff",
   "metadata": {},
   "outputs": [],
   "source": [
    "import pickle\n",
    "import numpy as np\n",
    "import pandas as pd\n",
    "from collections import defaultdict"
   ]
  },
  {
   "cell_type": "code",
   "execution_count": 19,
   "id": "eb13891a",
   "metadata": {},
   "outputs": [],
   "source": [
    "df = pd.read_csv('./datasets/git_web_ml/musae_git_edges.csv', sep=',')"
   ]
  },
  {
   "cell_type": "code",
   "execution_count": 20,
   "id": "9542266a",
   "metadata": {},
   "outputs": [
    {
     "data": {
      "text/html": [
       "<div>\n",
       "<style scoped>\n",
       "    .dataframe tbody tr th:only-of-type {\n",
       "        vertical-align: middle;\n",
       "    }\n",
       "\n",
       "    .dataframe tbody tr th {\n",
       "        vertical-align: top;\n",
       "    }\n",
       "\n",
       "    .dataframe thead th {\n",
       "        text-align: right;\n",
       "    }\n",
       "</style>\n",
       "<table border=\"1\" class=\"dataframe\">\n",
       "  <thead>\n",
       "    <tr style=\"text-align: right;\">\n",
       "      <th></th>\n",
       "      <th>id_1</th>\n",
       "      <th>id_2</th>\n",
       "    </tr>\n",
       "  </thead>\n",
       "  <tbody>\n",
       "    <tr>\n",
       "      <th>0</th>\n",
       "      <td>0</td>\n",
       "      <td>23977</td>\n",
       "    </tr>\n",
       "    <tr>\n",
       "      <th>1</th>\n",
       "      <td>1</td>\n",
       "      <td>34526</td>\n",
       "    </tr>\n",
       "    <tr>\n",
       "      <th>2</th>\n",
       "      <td>1</td>\n",
       "      <td>2370</td>\n",
       "    </tr>\n",
       "    <tr>\n",
       "      <th>3</th>\n",
       "      <td>1</td>\n",
       "      <td>14683</td>\n",
       "    </tr>\n",
       "    <tr>\n",
       "      <th>4</th>\n",
       "      <td>1</td>\n",
       "      <td>29982</td>\n",
       "    </tr>\n",
       "  </tbody>\n",
       "</table>\n",
       "</div>"
      ],
      "text/plain": [
       "   id_1   id_2\n",
       "0     0  23977\n",
       "1     1  34526\n",
       "2     1   2370\n",
       "3     1  14683\n",
       "4     1  29982"
      ]
     },
     "execution_count": 20,
     "metadata": {},
     "output_type": "execute_result"
    }
   ],
   "source": [
    "df.head()"
   ]
  },
  {
   "cell_type": "code",
   "execution_count": 21,
   "id": "9d11c7cd",
   "metadata": {},
   "outputs": [
    {
     "data": {
      "text/plain": [
       "(37700,)"
      ]
     },
     "execution_count": 21,
     "metadata": {},
     "output_type": "execute_result"
    }
   ],
   "source": [
    "np.unique(df.values.flatten()).shape"
   ]
  },
  {
   "cell_type": "code",
   "execution_count": 22,
   "id": "fae414a6",
   "metadata": {},
   "outputs": [],
   "source": [
    "nV = 37700\n",
    "N = defaultdict(set)\n",
    "\n",
    "for i,j in df.values:\n",
    "    N[i].add(j)\n",
    "    N[j].add(i)"
   ]
  },
  {
   "cell_type": "code",
   "execution_count": 23,
   "id": "4683f7aa",
   "metadata": {},
   "outputs": [
    {
     "data": {
      "text/plain": [
       "37700"
      ]
     },
     "execution_count": 23,
     "metadata": {},
     "output_type": "execute_result"
    }
   ],
   "source": [
    "len(N)"
   ]
  },
  {
   "cell_type": "code",
   "execution_count": 24,
   "id": "80a4b95b",
   "metadata": {},
   "outputs": [],
   "source": [
    "nD = 100\n",
    "demands = []\n",
    "\n",
    "np.random.seed(42)\n",
    "for i in range(nD):\n",
    "    S = np.random.choice(nV, size=nV//10, replace=False)\n",
    "    demands.append(set(S))"
   ]
  },
  {
   "cell_type": "code",
   "execution_count": 25,
   "id": "7f4ab134",
   "metadata": {},
   "outputs": [],
   "source": [
    "pickle.dump([N, demands], \n",
    "            open('datasets/github.pkl', 'wb'))"
   ]
  }
 ],
 "metadata": {
  "kernelspec": {
   "display_name": "Python 3",
   "language": "python",
   "name": "python3"
  },
  "language_info": {
   "codemirror_mode": {
    "name": "ipython",
    "version": 3
   },
   "file_extension": ".py",
   "mimetype": "text/x-python",
   "name": "python",
   "nbconvert_exporter": "python",
   "pygments_lexer": "ipython3",
   "version": "3.8.2"
  },
  "toc": {
   "base_numbering": 1,
   "nav_menu": {},
   "number_sections": true,
   "sideBar": true,
   "skip_h1_title": false,
   "title_cell": "Table of Contents",
   "title_sidebar": "Contents",
   "toc_cell": false,
   "toc_position": {
    "height": "calc(100% - 180px)",
    "left": "10px",
    "top": "150px",
    "width": "165px"
   },
   "toc_section_display": true,
   "toc_window_display": true
  }
 },
 "nbformat": 4,
 "nbformat_minor": 5
}
